{
 "cells": [
  {
   "cell_type": "code",
   "execution_count": 12,
   "metadata": {},
   "outputs": [],
   "source": [
    "import torchvision\n",
    "import tokenizers\n",
    "\n",
    "import itertools\n",
    "import matplotlib.pyplot as plt\n",
    "\n",
    "from tqdm import tqdm\n",
    "import torchtext"
   ]
  },
  {
   "cell_type": "code",
   "execution_count": 6,
   "metadata": {},
   "outputs": [],
   "source": [
    "flickr_src= '../Datasets/Flickr30k/'"
   ]
  },
  {
   "cell_type": "code",
   "execution_count": 7,
   "metadata": {},
   "outputs": [],
   "source": [
    "with open(flickr_src + 'results_20130124.token', 'r') as f:\n",
    "    text = f.read()"
   ]
  },
  {
   "cell_type": "code",
   "execution_count": 8,
   "metadata": {},
   "outputs": [],
   "source": [
    "dataset = torchvision.datasets.Flickr30k(flickr_src + 'flickr30k-images', flickr_src + 'results_20130124.token')\n",
    "\n",
    "# max_length setting\n",
    "max_len = 150\n",
    "vocab_size = 30000"
   ]
  },
  {
   "cell_type": "code",
   "execution_count": 9,
   "metadata": {},
   "outputs": [
    {
     "name": "stderr",
     "output_type": "stream",
     "text": [
      "100%|██████████| 158915/158915 [01:02<00:00, 2534.10it/s]\n"
     ]
    }
   ],
   "source": [
    "tokenizer = tokenizers.BertWordPieceTokenizer(\n",
    "    clean_text = True,\n",
    "    lowercase = False\n",
    ")\n",
    "\n",
    "list_of_strings = list(itertools.chain.from_iterable(list(dataset.annotations.values())))\n",
    "lens = [len(x) for x in list_of_strings]\n",
    "max_len = max(lens) \n",
    "max_len\n",
    "\n",
    "# trainer = tokenizers.trainers.UnigramTrainer(\n",
    "#     vocab_size = \n",
    "# )\n",
    "\n",
    "# tokenizer.train(\n",
    "    \n",
    "# )\n",
    "\n",
    "toks = [x.split() for x in list_of_strings]\n",
    "mainset = set()\n",
    "for x in tqdm(toks):\n",
    "    mainset = mainset.union(set(x))"
   ]
  },
  {
   "cell_type": "code",
   "execution_count": 10,
   "metadata": {},
   "outputs": [
    {
     "data": {
      "text/plain": [
       "(array([1.7470e+03, 4.0150e+04, 5.7715e+04, 3.3704e+04, 1.4617e+04,\n",
       "        6.1280e+03, 2.6340e+03, 1.1340e+03, 5.4300e+02, 2.6000e+02,\n",
       "        1.2600e+02, 7.1000e+01, 3.3000e+01, 2.2000e+01, 1.4000e+01,\n",
       "        9.0000e+00, 3.0000e+00, 2.0000e+00, 2.0000e+00, 1.0000e+00]),\n",
       " array([  7.  ,  26.95,  46.9 ,  66.85,  86.8 , 106.75, 126.7 , 146.65,\n",
       "        166.6 , 186.55, 206.5 , 226.45, 246.4 , 266.35, 286.3 , 306.25,\n",
       "        326.2 , 346.15, 366.1 , 386.05, 406.  ]),\n",
       " <BarContainer object of 20 artists>)"
      ]
     },
     "execution_count": 10,
     "metadata": {},
     "output_type": "execute_result"
    },
    {
     "data": {
      "image/png": "[encoded data removed]",
      "text/plain": [
       "<Figure size 640x480 with 1 Axes>"
      ]
     },
     "metadata": {},
     "output_type": "display_data"
    }
   ],
   "source": [
    "plt.hist(lens, bins = 20)"
   ]
  },
  {
   "cell_type": "code",
   "execution_count": null,
   "metadata": {},
   "outputs": [],
   "source": [
    "tokenizer = tokenizers.BertWordPieceTokenizer(\n",
    "    clean_text = True,\n",
    "    lowercase = False\n",
    ")\n",
    "\n",
    "list_of_strings = list(itertools.chain.from_iterable(list(dataset.annotations.values())))\n",
    "lens = [len(x) for x in list_of_strings]\n",
    "max_len = max(lens) \n",
    "\n",
    "tokenizer.train_from_iterator(list_of_strings,\n",
    "                              vocab_size = vocab_size,\n",
    "                              show_progress = True,\n",
    "                              special_tokens = ['[PAD]', '[UNK]', '[MASK]'])\n",
    "\n",
    "tokenizer.save('Vocabulary/flickr30k.vocab')"
   ]
  },
  {
   "cell_type": "code",
   "execution_count": 41,
   "metadata": {},
   "outputs": [
    {
     "ename": "TypeError",
     "evalue": "'torchtext._torchtext.Vocab' object is not callable",
     "output_type": "error",
     "traceback": [
      "\u001b[1;31m---------------------------------------------------------------------------\u001b[0m",
      "\u001b[1;31mTypeError\u001b[0m                                 Traceback (most recent call last)",
      "Cell \u001b[1;32mIn[41], line 1\u001b[0m\n\u001b[1;32m----> 1\u001b[0m \u001b[43mvocab\u001b[49m\u001b[38;5;241;43m.\u001b[39;49m\u001b[43mvocab\u001b[49m\u001b[43m(\u001b[49m\u001b[43m)\u001b[49m\n",
      "\u001b[1;31mTypeError\u001b[0m: 'torchtext._torchtext.Vocab' object is not callable"
     ]
    }
   ],
   "source": [
    "vocab."
   ]
  },
  {
   "cell_type": "code",
   "execution_count": 52,
   "metadata": {},
   "outputs": [
    {
     "name": "stdout",
     "output_type": "stream",
     "text": [
      "Several men in hard hats are operating a giant pulley system .\n",
      "['several', 'men', 'in', 'hard', 'hats', 'are', 'operating', 'a', 'giant', 'pulley', 'system', '.']\n"
     ]
    },
    {
     "data": {
      "text/plain": [
       "[118, 29, 2, 329, 273, 13, 1317, 0, 812, 3941, 2677, 1]"
      ]
     },
     "execution_count": 52,
     "metadata": {},
     "output_type": "execute_result"
    }
   ],
   "source": [
    "tokenizer = torchtext.data.utils.get_tokenizer('basic_english', language = 'en')\n",
    "\n",
    "all_toks = [tokenizer(y) for y in list_of_strings]\n",
    "    \n",
    "\n",
    "vocab = torchtext.vocab.build_vocab_from_iterator(\n",
    "    all_toks,\n",
    "    min_freq = 2,\n",
    "    specials = ['[PAD]', '[UNK]', '[MASK]'],\n",
    "    special_first=False,\n",
    "    max_tokens = vocab_size\n",
    ")\n",
    "\n",
    "vocab.set_default_index = -1\n",
    "\n",
    "sentence = dataset[1][1][0]\n",
    "print(sentence)\n",
    "tok_sen = tokenizer(sentence)\n",
    "print(tok_sen)\n",
    "vocab.forward(tok_sen)\n",
    "# 'Vocabulary/flickr30k.vocab'"
   ]
  },
  {
   "cell_type": "code",
   "execution_count": 55,
   "metadata": {},
   "outputs": [
    {
     "data": {
      "text/plain": [
       "12483"
      ]
     },
     "execution_count": 55,
     "metadata": {},
     "output_type": "execute_result"
    }
   ],
   "source": [
    "vocab['[PAD]']"
   ]
  },
  {
   "cell_type": "code",
   "execution_count": 62,
   "metadata": {},
   "outputs": [
    {
     "data": {
      "text/plain": [
       "<torchtext._torchtext.Vocab at 0x130396f8a30>"
      ]
     },
     "execution_count": 62,
     "metadata": {},
     "output_type": "execute_result"
    }
   ],
   "source": [
    "vocab.vocab"
   ]
  },
  {
   "cell_type": "code",
   "execution_count": 63,
   "metadata": {},
   "outputs": [
    {
     "ename": "AttributeError",
     "evalue": "module 'torchtext.data' has no attribute 'Field'",
     "output_type": "error",
     "traceback": [
      "\u001b[1;31m---------------------------------------------------------------------------\u001b[0m",
      "\u001b[1;31mAttributeError\u001b[0m                            Traceback (most recent call last)",
      "Cell \u001b[1;32mIn[63], line 1\u001b[0m\n\u001b[1;32m----> 1\u001b[0m \u001b[43mtorchtext\u001b[49m\u001b[38;5;241;43m.\u001b[39;49m\u001b[43mdata\u001b[49m\u001b[38;5;241;43m.\u001b[39;49m\u001b[43mField\u001b[49m\n",
      "\u001b[1;31mAttributeError\u001b[0m: module 'torchtext.data' has no attribute 'Field'"
     ]
    }
   ],
   "source": [
    "torchtext.data.Field"
   ]
  },
  {
   "cell_type": "code",
   "execution_count": 57,
   "metadata": {},
   "outputs": [
    {
     "ename": "TypeError",
     "evalue": "stat: path should be string, bytes, os.PathLike or integer, not Vocab",
     "output_type": "error",
     "traceback": [
      "\u001b[1;31m---------------------------------------------------------------------------\u001b[0m",
      "\u001b[1;31mTypeError\u001b[0m                                 Traceback (most recent call last)",
      "Cell \u001b[1;32mIn[57], line 1\u001b[0m\n\u001b[1;32m----> 1\u001b[0m \u001b[43mtorchtext\u001b[49m\u001b[38;5;241;43m.\u001b[39;49m\u001b[43mtransforms\u001b[49m\u001b[38;5;241;43m.\u001b[39;49m\u001b[43mBERTTokenizer\u001b[49m\u001b[43m(\u001b[49m\u001b[43mvocab\u001b[49m\u001b[43m)\u001b[49m\n",
      "File \u001b[1;32mc:\\ProgramData\\Anaconda3\\envs\\torchnew\\Lib\\site-packages\\torchtext\\transforms.py:834\u001b[0m, in \u001b[0;36mBERTTokenizer.__init__\u001b[1;34m(self, vocab_path, do_lower_case, strip_accents, return_tokens, never_split)\u001b[0m\n\u001b[0;32m    831\u001b[0m \u001b[38;5;28;01mif\u001b[39;00m never_split \u001b[38;5;129;01mis\u001b[39;00m \u001b[38;5;28;01mNone\u001b[39;00m:\n\u001b[0;32m    832\u001b[0m     never_split \u001b[38;5;241m=\u001b[39m []\n\u001b[0;32m    833\u001b[0m \u001b[38;5;28mself\u001b[39m\u001b[38;5;241m.\u001b[39mbert_model \u001b[38;5;241m=\u001b[39m BERTEncoderPyBind(\n\u001b[1;32m--> 834\u001b[0m     \u001b[43mget_asset_local_path\u001b[49m\u001b[43m(\u001b[49m\u001b[43mvocab_path\u001b[49m\u001b[43m,\u001b[49m\u001b[43m \u001b[49m\u001b[43moverwrite\u001b[49m\u001b[38;5;241;43m=\u001b[39;49m\u001b[38;5;28;43;01mTrue\u001b[39;49;00m\u001b[43m)\u001b[49m, do_lower_case, strip_accents, never_split\n\u001b[0;32m    835\u001b[0m )\n\u001b[0;32m    836\u001b[0m \u001b[38;5;28mself\u001b[39m\u001b[38;5;241m.\u001b[39m_return_tokens \u001b[38;5;241m=\u001b[39m return_tokens\n\u001b[0;32m    837\u001b[0m \u001b[38;5;28mself\u001b[39m\u001b[38;5;241m.\u001b[39m_vocab_path \u001b[38;5;241m=\u001b[39m vocab_path\n",
      "File \u001b[1;32mc:\\ProgramData\\Anaconda3\\envs\\torchnew\\Lib\\site-packages\\torchtext\\utils.py:238\u001b[0m, in \u001b[0;36mget_asset_local_path\u001b[1;34m(asset_path, overwrite)\u001b[0m\n\u001b[0;32m    224\u001b[0m \u001b[38;5;28;01mdef\u001b[39;00m \u001b[38;5;21mget_asset_local_path\u001b[39m(asset_path: \u001b[38;5;28mstr\u001b[39m, overwrite\u001b[38;5;241m=\u001b[39m\u001b[38;5;28;01mFalse\u001b[39;00m) \u001b[38;5;241m-\u001b[39m\u001b[38;5;241m>\u001b[39m \u001b[38;5;28mstr\u001b[39m:\n\u001b[0;32m    225\u001b[0m \u001b[38;5;250m    \u001b[39m\u001b[38;5;124;03m\"\"\"Get local path for assets. Download if path does not exist locally\u001b[39;00m\n\u001b[0;32m    226\u001b[0m \u001b[38;5;124;03m    Args:\u001b[39;00m\n\u001b[0;32m    227\u001b[0m \u001b[38;5;124;03m        asset_path: Local path to asset or remote URL\u001b[39;00m\n\u001b[1;32m   (...)\u001b[0m\n\u001b[0;32m    236\u001b[0m \u001b[38;5;124;03m        >>> '/home/user/file.txt'\u001b[39;00m\n\u001b[0;32m    237\u001b[0m \u001b[38;5;124;03m    \"\"\"\u001b[39;00m\n\u001b[1;32m--> 238\u001b[0m     \u001b[38;5;28;01mif\u001b[39;00m \u001b[43mos\u001b[49m\u001b[38;5;241;43m.\u001b[39;49m\u001b[43mpath\u001b[49m\u001b[38;5;241;43m.\u001b[39;49m\u001b[43mexists\u001b[49m\u001b[43m(\u001b[49m\u001b[43masset_path\u001b[49m\u001b[43m)\u001b[49m:\n\u001b[0;32m    239\u001b[0m         local_path \u001b[38;5;241m=\u001b[39m asset_path\n\u001b[0;32m    240\u001b[0m     \u001b[38;5;28;01melse\u001b[39;00m:\n",
      "File \u001b[1;32m<frozen genericpath>:19\u001b[0m, in \u001b[0;36mexists\u001b[1;34m(path)\u001b[0m\n",
      "\u001b[1;31mTypeError\u001b[0m: stat: path should be string, bytes, os.PathLike or integer, not Vocab"
     ]
    }
   ],
   "source": [
    "torchtext.transforms.BERTTokenizer()"
   ]
  }
 ],
 "metadata": {
  "kernelspec": {
   "display_name": "torchnew",
   "language": "python",
   "name": "python3"
  },
  "language_info": {
   "codemirror_mode": {
    "name": "ipython",
    "version": 3
   },
   "file_extension": ".py",
   "mimetype": "text/x-python",
   "name": "python",
   "nbconvert_exporter": "python",
   "pygments_lexer": "ipython3",
   "version": "3.11.0"
  }
 },
 "nbformat": 4,
 "nbformat_minor": 2
}
