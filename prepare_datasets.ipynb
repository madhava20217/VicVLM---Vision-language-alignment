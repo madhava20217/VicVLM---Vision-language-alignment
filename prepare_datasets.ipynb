{
 "cells": [
  {
   "cell_type": "code",
   "execution_count": 12,
   "metadata": {},
   "outputs": [],
   "source": [
    "import torchvision\n",
    "import tokenizers\n",
    "\n",
    "import itertools\n",
    "import matplotlib.pyplot as plt\n",
    "\n",
    "from tqdm import tqdm\n",
    "import torchtext"
   ]
  },
  {
   "cell_type": "code",
   "execution_count": 6,
   "metadata": {},
   "outputs": [],
   "source": [
    "flickr_src= '../Datasets/Flickr30k/'"
   ]
  },
  {
   "cell_type": "code",
   "execution_count": 7,
   "metadata": {},
   "outputs": [],
   "source": [
    "with open(flickr_src + 'results_20130124.token', 'r') as f:\n",
    "    text = f.read()"
   ]
  },
  {
   "cell_type": "code",
   "execution_count": 8,
   "metadata": {},
   "outputs": [],
   "source": [
    "dataset = torchvision.datasets.Flickr30k(flickr_src + 'flickr30k-images', flickr_src + 'results_20130124.token')\n",
    "\n",
    "# max_length setting\n",
    "max_len = 150\n",
    "vocab_size = 30000"
   ]
  },
  {
   "cell_type": "code",
   "execution_count": 9,
   "metadata": {},
   "outputs": [
    {
     "name": "stderr",
     "output_type": "stream",
     "text": [
      "100%|██████████| 158915/158915 [01:02<00:00, 2534.10it/s]\n"
     ]
    }
   ],
   "source": [
    "tokenizer = tokenizers.BertWordPieceTokenizer(\n",
    "    clean_text = True,\n",
    "    lowercase = False\n",
    ")\n",
    "\n",
    "list_of_strings = list(itertools.chain.from_iterable(list(dataset.annotations.values())))\n",
    "lens = [len(x) for x in list_of_strings]\n",
    "max_len = max(lens) \n",
    "max_len\n",
    "\n",
    "# trainer = tokenizers.trainers.UnigramTrainer(\n",
    "#     vocab_size = \n",
    "# )\n",
    "\n",
    "# tokenizer.train(\n",
    "    \n",
    "# )\n",
    "\n",
    "toks = [x.split() for x in list_of_strings]\n",
    "mainset = set()\n",
    "for x in tqdm(toks):\n",
    "    mainset = mainset.union(set(x))"
   ]
  },
  {
   "cell_type": "code",
   "execution_count": 10,
   "metadata": {},
   "outputs": [
    {
     "data": {
      "text/plain": [
       "(array([1.7470e+03, 4.0150e+04, 5.7715e+04, 3.3704e+04, 1.4617e+04,\n",
       "        6.1280e+03, 2.6340e+03, 1.1340e+03, 5.4300e+02, 2.6000e+02,\n",
       "        1.2600e+02, 7.1000e+01, 3.3000e+01, 2.2000e+01, 1.4000e+01,\n",
       "        9.0000e+00, 3.0000e+00, 2.0000e+00, 2.0000e+00, 1.0000e+00]),\n",
       " array([  7.  ,  26.95,  46.9 ,  66.85,  86.8 , 106.75, 126.7 , 146.65,\n",
       "        166.6 , 186.55, 206.5 , 226.45, 246.4 , 266.35, 286.3 , 306.25,\n",
       "        326.2 , 346.15, 366.1 , 386.05, 406.  ]),\n",
       " <BarContainer object of 20 artists>)"
      ]
     },
     "execution_count": 10,
     "metadata": {},
     "output_type": "execute_result"
    },
  