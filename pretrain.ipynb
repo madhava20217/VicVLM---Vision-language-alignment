{
 "cells": [
  {
   "cell_type": "code",
   "execution_count": 1,
   "metadata": {},
   "outputs": [
    {
     "name": "stderr",
     "output_type": "stream",
     "text": [
      "c:\\ProgramData\\Anaconda3\\envs\\torchnew\\Lib\\site-packages\\tqdm\\auto.py:22: TqdmWarning: IProgress not found. Please update jupyter and ipywidgets. See https://ipywidgets.readthedocs.io/en/stable/user_install.html\n",
      "  from .autonotebook import tqdm as notebook_tqdm\n"
     ]
    }
   ],
   "source": [
    "import transformers\n",
    "import torch\n",
    "import torchvision\n",
    "import torchmetrics\n",
    "\n",
    "import torchtext\n",
    "\n",
    "device = 'cuda:1'\n",
    "n_workers = 8\n",
    "\n",
    "from tqdm import tqdm\n",
    "from PIL import Image\n",
    "\n",
    "import pandas as pd\n",
    "import numpy as np\n",
    "\n",
    "from torchinfo import summary\n",
    "import os\n",
    "import glob\n",
    "\n",
    "torch.set_num_threads(n_workers)\n",
    "\n",
    "DEVICE = torch.device(device) if torch.cuda.is_available() else torch.device('cpu')\n",
    "model_name = 'vit_bert_b'\n",
    "algo = 'MAMO'\n",
    "\n",
    "import tokenizers\n",
    "import itertools\n",
    "import matplotlib.pyplot as plt"
   ]
  },
  {
   "cell_type": "code",
   "execution_count": 2,
   "metadata": {},
   "outputs": [],
   "source": [
    "DATASET_SRC = '../Datasets/Flickr30k/'\n",
    "MODEL_SAVE_PATH = f'Models/{model_name}/{algo}/checkpoint'\n",
    "\n",
    "VOCAB_PATH = 'Vocabulary/flickr30k.vocab'\n",
    "\n",
    "if os.path.exists(os.path.dirname(MODEL_SAVE_PATH)) == False:\n",
    "    os.makedirs(os.path.dirname(MODEL_SAVE_PATH))"
   ]
  },
  {
   "cell_type": "code",
   "execution_count": 3,
   "metadata": {},
   "outputs": [],
   "source": [
    "DIMENSION = 224\n",
    "\n",
    "# ViT config\n"
   ]
  },
  {
   "cell_type": "code",
   "execution_count": 4,
   "metadata": {},
   "outputs": [],
   "source": [
    "# loading dataset\n",
    "\n",
    "dataset = torchvision.datasets.Flickr30k(DATASET_SRC + 'flickr30k-images',\n",
    "                                         DATASET_SRC + 'results_20130124.token')\n",
    "VOCAB_SIZE = 30000\n",
    "MAX_LEN = 100\n",
    "\n",
    "dataset.target_transform = None"
   ]
  },
  {
   "cell_type": "code",
   "execution_count": 15,
   "metadata": {},
   "outputs": [],
   "source": [
    "import torchvision.transforms.v2 as v2\n",
    "\n",
    "## image transforms\n",
    "img_transform = v2.Compose([\n",
    "    v2.ToImage(),\n",
    "    v2.ToDtype(torch.int8, scale = True),\n",
    "    v2.RandomResizedCrop(size = (DIMENSION, DIMENSION), \n",
    "                                scale = [0.67,1], \n",
    "                                ratio = [3/4, 4/3],\n",
    "                                antialias = False),\n",
    "    v2.RandomVerticalFlip(),\n",
    "    v2.RandomHorizontalFlip(),\n",
    "    v2.ToDtype(torch.float32, scale=True),\n",
    "    v2.Normalize(\n",
    "        mean = [0.485, 0.456, 0.406],\n",
    "        std =  [0.229, 0.224, 0.225]\n",
    "    )\n",
    "])\n",
    "\n",
    "\n",
    "\n",
    "## text processing\n",
    "\n",
    "list_of_strings = list(itertools.chain.from_iterable(list(dataset.annotations.values())))\n",
    "#tokenizer\n",
    "tokenizer = torchtext.data.utils.get_tokenizer(None, language = 'en')\n",
    "all_toks = [tokenizer(x) for x in list_of_strings]\n",
    "\n",
    "#vocabulary\n",
    "vocab = torchtext.vocab.build_vocab_from_iterator(\n",
    "    all_toks,\n",
    "    min_freq = 2,\n",
    "    specials = ['[PAD]', '[UNK]', '[MASK]'],\n",
    "    special_first=False,\n",
    "    max_tokens = VOCAB_SIZE\n",
    ")\n",
    "vocab.set_default_index = vocab['[UNK]']\n",
    "\n",
    "with open(VOCAB_PATH, 'w') as f:\n",
    "    for token in vocab.get_itos():\n",
    "        f.write(token + '\\n')\n",
    "\n",
    "#text transform\n",
    "text_transform = torchtext.transforms.Sequential(\n",
    "    # torchtext.transforms.RegexTokenizer([]),\n",
    "    torchtext.transforms.BERTTokenizer(VOCAB_PATH, \n",
    "                                       do_lower_case=False,\n",
    "                                       strip_accents=False,\n",
    "                                       return_tokens = True,\n",
    "                                       ),\n",
    "    torchtext.transforms.VocabTransform(vocab),\n",
    "    torchtext.transforms.Truncate(MAX_LEN),\n",
    "    torchtext.transforms.ToTensor(padding_value = vocab['[PAD]']),\n",
    "    torchtext.transforms.PadTransform(MAX_LEN, vocab['[PAD]']),\n",
    ")"
   ]
  },
  {
   "cell_type": "code",
   "execution_count": 33,
   "metadata": {},
   "outputs": [
    {
     "data": {
      "text/plain": [
       "Dataset Flickr30K_MAMO\n",
       "    Number of datapoints: 31783\n",
       "    Root location: ../Datasets/Flickr30k/flickr30k-images"
      ]
     },
     "execution_count": 33,
     "metadata": {},
     "output_type": "execute_result"
    }
   ],
   "source": [
    "class Flickr30K_MAMO(torchvision.datasets.Flickr30k):\n",
    "    def __init__(self, data_path, ann_path):\n",
    "        super().__init__(data_path, ann_path)\n",
    "        \n",
    "    def __getitem__(self, idx):\n",
    "        img, cap = super().__getitem__(idx)\n",
    "        \n",
    "Flickr30K_MAMO(DATASET_SRC + 'flickr30k-images',\n",
    "               DATASET_SRC + 'results_20130124.token')"
   ]
  },
  {
   "cell_type": "code",
   "execution_count": 16,
   "metadata": {},
   "outputs": [],
   "source": [
    "# setting transformations\n",
    "\n",
    "dataset.transform = img_transform\n",
    "dataset.target_transform = text_transform"
   ]
  },
  {
   "cell_type": "code",
   "execution_count": 17,
   "metadata": {},
   "outputs": [
    {
     "data": {
      "text/plain": [
       "(Image([[[1.4925, 1.4925, 1.4925,  ..., 1.4925, 1.5612, 1.5268],\n",
       "         [1.5268, 1.4925, 1.4925,  ..., 1.4237, 1.5268, 1.4925],\n",
       "         [1.4925, 1.4925, 1.5268,  ..., 1.5268, 1.5612, 1.5268],\n",
       "         ...,\n",
       "         [1.4925, 1.4581, 1.4581,  ..., 1.4581, 1.5268, 1.4925],\n",
       "         [1.4581, 1.4581, 1.4581,  ..., 1.4581, 1.4925, 1.5268],\n",
       "         [1.4581, 1.4581, 1.4925,  ..., 1.5268, 1.4925, 1.4925]],\n",
       " \n",
       "        [[1.6552, 1.6552, 1.6552,  ..., 1.7255, 1.7255, 1.6904],\n",
       "         [1.6904, 1.6552, 1.6552,  ..., 1.6201, 1.6904, 1.6552],\n",
       "         [1.6904, 1.6552, 1.6904,  ..., 1.7255, 1.7255, 1.6904],\n",
       "         ...,\n",
       "         [1.6552, 1.6201, 1.6201,  ..., 1.6201, 1.6904, 1.6552],\n",
       "         [1.6201, 1.6201, 1.6201,  ..., 1.6201, 1.6552, 1.6904],\n",
       "         [1.6201, 1.6201, 1.6552,  ..., 1.6904, 1.6552, 1.6552]],\n",
       " \n",
       "        [[1.8351, 1.8351, 1.8351,  ..., 1.8701, 1.9051, 1.8701],\n",
       "         [1.8701, 1.8351, 1.8351,  ..., 1.7651, 1.8701, 1.8351],\n",
       "         [1.8351, 1.8351, 1.8701,  ..., 1.8701, 1.9051, 1.8701],\n",
       "         ...,\n",
       "         [1.8351, 1.8001, 1.8001,  ..., 1.8001, 1.8701, 1.8351],\n",
       "         [1.8001, 1.8001, 1.8001,  ..., 1.8001, 1.8351, 1.8701],\n",
       "         [1.8001, 1.8001, 1.8351,  ..., 1.8701, 1.8351, 1.8351]]], ),\n",
       " tensor([[  179,    33,     3,   338,   275,    13,  1338,     0,   851,  4052,\n",
       "           2729,     1, 13797, 13797, 13797, 13797, 13797, 13797, 13797, 13797,\n",
       "          13797, 13797, 13797, 13797, 13797, 13797, 13797, 13797, 13797, 13797,\n",
       "          13797, 13797, 13797, 13797, 13797, 13797, 13797, 13797, 13797, 13797,\n",
       "          13797, 13797, 13797, 13797, 13797, 13797, 13797, 13797, 13797, 13797,\n",
       "          13797, 13797, 13797, 13797, 13797, 13797, 13797, 13797, 13797, 13797,\n",
       "          13797, 13797, 13797, 13797, 13797, 13797, 13797, 13797, 13797, 13797,\n",
       "          13797, 13797, 13797, 13797, 13797, 13797, 13797, 13797, 13797, 13797,\n",
       "          13797, 13797, 13797, 13797, 13797, 13797, 13797, 13797, 13797, 13797,\n",
       "          13797, 13797, 13797, 13797, 13797, 13797, 13797, 13797, 13797, 13797],\n",
       "         [ 1025,   188,    36,    64,    48,   324,     5,     0,   315,     9,\n",
       "            430,     1, 13797, 13797, 13797, 13797, 13797, 13797, 13797, 13797,\n",
       "          13797, 13797, 13797, 13797, 13797, 13797, 13797, 13797, 13797, 13797,\n",
       "          13797, 13797, 13797, 13797, 13797, 13797, 13797, 13797, 13797, 13797,\n",
       "          13797, 13797, 13797, 13797, 13797, 13797, 13797, 13797, 13797, 13797,\n",
       "          13797, 13797, 13797, 13797, 13797, 13797, 13797, 13797, 13797, 13797,\n",
       "          13797, 13797, 13797, 13797, 13797, 13797, 13797, 13797, 13797, 13797,\n",
       "          13797, 13797, 13797, 13797, 13797, 13797, 13797, 13797, 13797, 13797,\n",
       "          13797, 13797, 13797, 13797, 13797, 13797, 13797, 13797, 13797, 13797,\n",
       "          13797, 13797, 13797, 13797, 13797, 13797, 13797, 13797, 13797, 13797],\n",
       "         [   15,    33,   114,     5,     0,   404,    17,   338,   275,     1,\n",
       "          13797, 13797, 13797, 13797, 13797, 13797, 13797, 13797, 13797, 13797,\n",
       "          13797, 13797, 13797, 13797, 13797, 13797, 13797, 13797, 13797, 13797,\n",
       "          13797, 13797, 13797, 13797, 13797, 13797, 13797, 13797, 13797, 13797,\n",
       "          13797, 13797, 13797, 13797, 13797, 13797, 13797, 13797, 13797, 13797,\n",
       "          13797, 13797, 13797, 13797, 13797, 13797, 13797, 13797, 13797, 13797,\n",
       "          13797, 13797, 13797, 13797, 13797, 13797, 13797, 13797, 13797, 13797,\n",
       "          13797, 13797, 13797, 13797, 13797, 13797, 13797, 13797, 13797, 13797,\n",
       "          13797, 13797, 13797, 13797, 13797, 13797, 13797, 13797, 13797, 13797,\n",
       "          13797, 13797, 13797, 13797, 13797, 13797, 13797, 13797, 13797, 13797],\n",
       "         [  152,    33,     5,   102,     9,     0,   423,   521,     1, 13797,\n",
       "          13797, 13797, 13797, 13797, 13797, 13797, 13797, 13797, 13797, 13797,\n",
       "          13797, 13797, 13797, 13797, 13797, 13797, 13797, 13797, 13797, 13797,\n",
       "          13797, 13797, 13797, 13797, 13797, 13797, 13797, 13797, 13797, 13797,\n",
       "          13797, 13797, 13797, 13797, 13797, 13797, 13797, 13797, 13797, 13797,\n",
       "          13797, 13797, 13797, 13797, 13797, 13797, 13797, 13797, 13797, 13797,\n",
       "          13797, 13797, 13797, 13797, 13797, 13797, 13797, 13797, 13797, 13797,\n",
       "          13797, 13797, 13797, 13797, 13797, 13797, 13797, 13797, 13797, 13797,\n",
       "          13797, 13797, 13797, 13797, 13797, 13797, 13797, 13797, 13797, 13797,\n",
       "          13797, 13797, 13797, 13797, 13797, 13797, 13797, 13797, 13797, 13797],\n",
       "         [   58,    33,     5,     0,    56,  5060,     1, 13797, 13797, 13797,\n",
       "          13797, 13797, 13797, 13797, 13797, 13797, 13797, 13797, 13797, 13797,\n",
       "          13797, 13797, 13797, 13797, 13797, 13797, 13797, 13797, 13797, 13797,\n",
       "          13797, 13797, 13797, 13797, 13797, 13797, 13797, 13797, 13797, 13797,\n",
       "          13797, 13797, 13797, 13797, 13797, 13797, 13797, 13797, 13797, 13797,\n",
       "          13797, 13797, 13797, 13797, 13797, 13797, 13797, 13797, 13797, 13797,\n",
       "          13797, 13797, 13797, 13797, 13797, 13797, 13797, 13797, 13797, 13797,\n",
       "          13797, 13797, 13797, 13797, 13797, 13797, 13797, 13797, 13797, 13797,\n",
       "          13797, 13797, 13797, 13797, 13797, 13797, 13797, 13797, 13797, 13797,\n",
       "          13797, 13797, 13797, 13797, 13797, 13797, 13797, 13797, 13797, 13797]]))"
      ]
     },
     "execution_count": 17,
     "metadata": {},
     "output_type": "execute_result"
    }
   ],
   "source": [
    "dataset[1]"
   ]
  },
  {
   "cell_type": "code",
   "execution_count": null,
   "metadata": {},
   "outputs": [],
   "source": [
    "tokenizer.encode(dataset[1][1][1]).tokens"
   ]
  }
 ],
 "metadata": {
  "kernelspec": {
   "display_name": "torchnew",
   "language": "python",
   "name": "python3"
  },
  "language_info": {
   "codemirror_mode": {
    "name": "ipython",
    "version": 3
   },
   "file_extension": ".py",
   "mimetype": "text/x-python",
   "name": "python",
   "nbconvert_exporter": "python",
   "pygments_lexer": "ipython3",
   "version": "3.11.0"
  }
 },
 "nbformat": 4,
 "nbformat_minor": 2
}
